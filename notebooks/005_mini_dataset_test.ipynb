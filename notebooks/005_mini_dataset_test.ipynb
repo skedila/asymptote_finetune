{
 "cells": [
  {
   "cell_type": "code",
   "execution_count": 50,
   "id": "5b4c1b2c",
   "metadata": {},
   "outputs": [
    {
     "name": "stdout",
     "output_type": "stream",
     "text": [
      "Saved mini dataset to: data\\asymptote_dataset_mini.jsonl\n"
     ]
    }
   ],
   "source": [
    "import os\n",
    "import json\n",
    "\n",
    "# Directories\n",
    "dir_data = 'data'\n",
    "input_jsonl = os.path.join(dir_data, 'asymptote_dataset_phase1.jsonl')\n",
    "output_jsonl = os.path.join(dir_data, 'asymptote_dataset_mini.jsonl')\n",
    "\n",
    "# Load full dataset\n",
    "with open(input_jsonl, 'r', encoding='utf-8') as f:\n",
    "    samples = [json.loads(line.strip()) for line in f]\n",
    "\n",
    "# Take first 20 samples\n",
    "samples_mini = samples[1:21]\n",
    "\n",
    "# Add image path field\n",
    "for sample in samples_mini:\n",
    "    sample['image_path'] = os.path.join(dir_data, 'images', '%s.png' % sample['id'])\n",
    "    \n",
    "# Generate matching descriptions\n",
    "descriptions = [\n",
    "    \"Draw a non-crossed polygon and its reverse, with directional arrows showing both clockwise and counterclockwise orientation.\",\n",
    "    \"Draw a unit circle path in both clockwise and counterclockwise orientation using arrows.\",\n",
    "    \"Plot several closed curved paths centered at different points, showing clockwise and counterclockwise directions with arrows.\",\n",
    "    \"Draw a randomly generated closed path with clockwise and counterclockwise orientations, visualized with arrows.\",\n",
    "    \"Draw two horizontal line segments: one from (0,0) to (2,0), and one from (4,0) to (4,2), using 2cm units.\",\n",
    "    \"Draw two horizontal line segments: one from (0,0) to (2,0), and one from (4,0) to (4,2), with figure size 5cm.\",\n",
    "    \"Draw the same horizontal line segments as before, but increase figure width to 10cm.\",\n",
    "    \"Draw two short horizontal line segments with figure size 5cm by 3cm.\",\n",
    "    \"Repeat the line segment drawing with size 10cm by 2.5cm.\",\n",
    "    \"Draw the same horizontal segments with non-fixed scaling of size 10cm by 2.5cm.\",\n",
    "    \"Change scaling to 3cm width and 10cm height while drawing the segments.\",\n",
    "    \"Use physical units (cm) to define points and draw segments using coordinates like (3cm,0) and (6cm,4cm).\",\n",
    "    \"Draw segments using unit size 1cm and integer coordinates.\",\n",
    "    \"Use asymmetric scaling (2cm for x, 1cm for y) to draw segments with integer coordinates.\",\n",
    "    \"Draw a large circle of radius 4 with two dots at the center and circumference, using fixed scaling and light grey fill.\",\n",
    "    \"Draw a horizontal segment using a picture frame object, and shift the drawing 40 units down.\",\n",
    "    \"Repeat the same using a picture object instead of frame, and draw the same scaled segment twice vertically stacked.\",\n",
    "    \"Draw an open triangle using the points (0,0), (1,0), and (0,1).\",\n",
    "    \"Draw a closed triangle using the same three points: (0,0), (1,0), and (0,1).\",\n",
    "    \"Draw a square using an array of points, then draw both diagonals to complete the cross.\"\n",
    "]\n",
    "\n",
    "# Add descriptions to samples\n",
    "for i, sample in enumerate(samples_mini):\n",
    "    sample['description'] = descriptions[i]\n",
    "\n",
    "# Save to new file\n",
    "with open(output_jsonl, 'w', encoding='utf-8') as f:\n",
    "    for row in samples_mini:\n",
    "        json.dump(row, f)\n",
    "        f.write('\\n')\n",
    "\n",
    "print('Saved mini dataset to:', output_jsonl)"
   ]
  },
  {
   "cell_type": "code",
   "execution_count": 51,
   "id": "ab97e47c",
   "metadata": {},
   "outputs": [
    {
     "name": "stdout",
     "output_type": "stream",
     "text": [
      "Saved hugging face formatted mini dataset to: data\\asymptote_dataset_mini.jsonl\n"
     ]
    }
   ],
   "source": [
    "output_jsonl_hf = os.path.join(dir_data, 'hf_finetune_mini.jsonl')\n",
    "\n",
    "with open(output_jsonl_hf, 'w', encoding='utf-8') as f:\n",
    "    for sample in samples_mini:\n",
    "        prompt = sample['description'].strip()\n",
    "        code = sample['asy_code'].strip()\n",
    "        json.dump({'prompt': prompt, 'completion': code}, f)\n",
    "        f.write('\\n')\n",
    "        \n",
    "print('Saved hugging face formatted mini dataset to:', output_jsonl)"
   ]
  },
  {
   "cell_type": "code",
   "execution_count": null,
   "id": "bed8c1bd",
   "metadata": {},
   "outputs": [],
   "source": []
  }
 ],
 "metadata": {
  "kernelspec": {
   "display_name": "wu_py379",
   "language": "python",
   "name": "wu_py379"
  },
  "language_info": {
   "codemirror_mode": {
    "name": "ipython",
    "version": 3
   },
   "file_extension": ".py",
   "mimetype": "text/x-python",
   "name": "python",
   "nbconvert_exporter": "python",
   "pygments_lexer": "ipython3",
   "version": "3.7.16"
  }
 },
 "nbformat": 4,
 "nbformat_minor": 5
}
