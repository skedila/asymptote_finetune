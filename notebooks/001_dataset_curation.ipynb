{
 "cells": [
  {
   "cell_type": "markdown",
   "id": "46cfcb48",
   "metadata": {},
   "source": [
    "### Install Dependencies"
   ]
  },
  {
   "cell_type": "code",
   "execution_count": 9,
   "id": "71c607f3",
   "metadata": {},
   "outputs": [],
   "source": [
    "import os\n",
    "import json"
   ]
  },
  {
   "cell_type": "markdown",
   "id": "e7e02270",
   "metadata": {},
   "source": [
    "### Load Data"
   ]
  },
  {
   "cell_type": "code",
   "execution_count": 10,
   "id": "6d5bd802",
   "metadata": {},
   "outputs": [],
   "source": [
    "# Base directory of the cloned repo\n",
    "dir_base = 'asymptote-exemples'\n",
    "\n",
    "# Output JSONL path\n",
    "dir_data = 'data'\n",
    "os.makedirs(dir_data, exist_ok=True)\n",
    "jsonl_path = os.path.join(dir_data, 'asymptote_dataset_phase1.jsonl')"
   ]
  },
  {
   "cell_type": "code",
   "execution_count": 11,
   "id": "58efaee5",
   "metadata": {},
   "outputs": [],
   "source": [
    "# Tags to discard (any sample containing these will be skipped)\n",
    "DISCARD_TAGS = [\n",
    "    'Animation', 'Fractals', 'L-System', 'Tiling', 'tube',\n",
    "    'Opacity', 'Morphing', 'Recursion', 'Physics',\n",
    "    'Random', 'Spherical harmonics'\n",
    "]"
   ]
  },
  {
   "cell_type": "markdown",
   "id": "9db6dfb8",
   "metadata": {},
   "source": [
    "### Remove Samples with Non-Relevant Tags"
   ]
  },
  {
   "cell_type": "code",
   "execution_count": 12,
   "id": "2558b5cd",
   "metadata": {},
   "outputs": [
    {
     "name": "stdout",
     "output_type": "stream",
     "text": [
      "Saved 424 samples to data\\asymptote_dataset_phase1.jsonl\n"
     ]
    }
   ],
   "source": [
    "# Counter for assigning unique IDs across all folders\n",
    "global_id_counter = 1\n",
    "samples = []\n",
    "\n",
    "# Traverse each category folder in base dir\n",
    "for folder_name in os.listdir(dir_base):\n",
    "    folder_path = os.path.join(dir_base, folder_name)\n",
    "    if not os.path.isdir(folder_path):\n",
    "        continue\n",
    "\n",
    "    # Try to get category name from category.txt\n",
    "    category_path = os.path.join(folder_path, 'category.txt')\n",
    "    if os.path.exists(category_path):\n",
    "        with open(category_path, 'r', encoding='utf-8') as f:\n",
    "            category_line = f.read().strip()\n",
    "            category = category_line.split('|')[-1].strip()\n",
    "    else:\n",
    "        category = folder_name  # fallback\n",
    "\n",
    "    # Loop through .asy files in this category\n",
    "    for file in os.listdir(folder_path):\n",
    "        \n",
    "        if not file.endswith('.asy'):\n",
    "            continue\n",
    "\n",
    "        base_name = file.replace('.asy', '')\n",
    "        asy_path = os.path.join(folder_path, base_name + '.asy')\n",
    "        tag_path = os.path.join(folder_path, base_name + '.tag')\n",
    "\n",
    "        # Read .asy code\n",
    "        try:\n",
    "            with open(asy_path, 'r', encoding='utf-8') as f:\n",
    "                asy_code = f.read().strip()\n",
    "        except Exception as e:\n",
    "            print('Skipping %s: %s'%(asy_path, e))\n",
    "            continue\n",
    "\n",
    "        # Read tags (flattened as string)\n",
    "        tags = ''\n",
    "        if os.path.exists(tag_path):\n",
    "            with open(tag_path, 'r', encoding='utf-8') as f:\n",
    "                tags = f.read().strip().replace('\\n', ' ')\n",
    "\n",
    "        # Filter out discarded tags\n",
    "        if any(discard_tag in tags for discard_tag in DISCARD_TAGS):\n",
    "            continue\n",
    "\n",
    "        # Assign new unique ID\n",
    "        assigned_id = str(global_id_counter).zfill(4)\n",
    "        global_id_counter += 1\n",
    "\n",
    "        # Compose sample\n",
    "        samples.append({\n",
    "            'id': assigned_id,\n",
    "            'filename': base_name,\n",
    "            'category': category,\n",
    "            'tags': tags,\n",
    "            'asy_code': asy_code\n",
    "        })\n",
    "\n",
    "samples = samples[1:]\n",
    "\n",
    "# Save all samples to .jsonl\n",
    "with open(jsonl_path, 'w', encoding='utf-8') as f:\n",
    "    for row in samples:\n",
    "        json.dump(row, f)\n",
    "        f.write('\\n')\n",
    "\n",
    "print('Saved %i samples to %s'%(len(samples), jsonl_path))\n"
   ]
  }
 ],
 "metadata": {
  "kernelspec": {
   "display_name": "wu_py379",
   "language": "python",
   "name": "wu_py379"
  },
  "language_info": {
   "codemirror_mode": {
    "name": "ipython",
    "version": 3
   },
   "file_extension": ".py",
   "mimetype": "text/x-python",
   "name": "python",
   "nbconvert_exporter": "python",
   "pygments_lexer": "ipython3",
   "version": "3.7.16"
  }
 },
 "nbformat": 4,
 "nbformat_minor": 5
}
