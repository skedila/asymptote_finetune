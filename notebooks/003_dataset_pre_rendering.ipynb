{
 "cells": [
  {
   "cell_type": "markdown",
   "id": "2b9e6682",
   "metadata": {},
   "source": [
    "### Install Dependencies"
   ]
  },
  {
   "cell_type": "code",
   "execution_count": 10,
   "id": "a7fbe09b",
   "metadata": {},
   "outputs": [],
   "source": [
    "import os\n",
    "import json"
   ]
  },
  {
   "cell_type": "markdown",
   "id": "05ca7aed",
   "metadata": {},
   "source": [
    "### Directories"
   ]
  },
  {
   "cell_type": "code",
   "execution_count": 11,
   "id": "bfbec164",
   "metadata": {},
   "outputs": [],
   "source": [
    "dir_data = 'data'\n",
    "jsonl_path = os.path.join(dir_data, 'asymptote_dataset_phase1_augmented.jsonl')\n",
    "dir_asy = os.path.join(dir_data, 'asy_files')\n",
    "os.makedirs(dir_asy, exist_ok=True)"
   ]
  },
  {
   "cell_type": "markdown",
   "id": "e0941fa5",
   "metadata": {},
   "source": [
    "### Create individual .asy files"
   ]
  },
  {
   "cell_type": "code",
   "execution_count": 12,
   "id": "bf5e10c6",
   "metadata": {},
   "outputs": [
    {
     "name": "stdout",
     "output_type": "stream",
     "text": [
      "Saved 2120 .asy files to: data\\asy_files\n"
     ]
    }
   ],
   "source": [
    "# Read dataset\n",
    "with open(jsonl_path, 'r', encoding='utf-8') as f:\n",
    "    samples = [json.loads(line.strip()) for line in f]\n",
    "\n",
    "# Write .asy files\n",
    "for sample in samples:\n",
    "    asy_path = os.path.join(dir_asy, '%s.asy' % sample['id'])\n",
    "    with open(asy_path, 'w', encoding='utf-8') as f:\n",
    "        f.write(sample['asy_code'])\n",
    "\n",
    "print('Saved %d .asy files to: %s' % (len(samples), dir_asy))"
   ]
  }
 ],
 "metadata": {
  "kernelspec": {
   "display_name": "wu_py379",
   "language": "python",
   "name": "wu_py379"
  },
  "language_info": {
   "codemirror_mode": {
    "name": "ipython",
    "version": 3
   },
   "file_extension": ".py",
   "mimetype": "text/x-python",
   "name": "python",
   "nbconvert_exporter": "python",
   "pygments_lexer": "ipython3",
   "version": "3.7.16"
  }
 },
 "nbformat": 4,
 "nbformat_minor": 5
}
