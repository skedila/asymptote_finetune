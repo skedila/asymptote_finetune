{
  "nbformat": 4,
  "nbformat_minor": 0,
  "metadata": {
    "colab": {
      "provenance": [],
      "machine_shape": "hm",
      "gpuType": "T4"
    },
    "kernelspec": {
      "name": "python3",
      "display_name": "Python 3"
    },
    "language_info": {
      "name": "python"
    },
    "accelerator": "GPU"
  },
  "cells": [
    {
      "cell_type": "markdown",
      "source": [
        "Install Dependencies"
      ],
      "metadata": {
        "id": "uZvhTq3h0Svd"
      }
    },
    {
      "cell_type": "code",
      "source": [
        "!pip install -q openai tqdm backoff\n",
        "\n",
        "import os, json, openai\n",
        "from tqdm import tqdm\n",
        "import backoff\n",
        "import time"
      ],
      "metadata": {
        "id": "dnojO-m00LLn"
      },
      "execution_count": null,
      "outputs": []
    },
    {
      "cell_type": "markdown",
      "source": [
        "Mount Google Drive"
      ],
      "metadata": {
        "id": "ntRk1lhE0WjU"
      }
    },
    {
      "cell_type": "code",
      "source": [
        "from google.colab import drive\n",
        "drive.mount('/content/drive')"
      ],
      "metadata": {
        "colab": {
          "base_uri": "https://localhost:8080/"
        },
        "id": "Ma2xfBZ60OLg",
        "outputId": "e15ad10c-ca56-4d6e-a5a8-4b6003010597"
      },
      "execution_count": null,
      "outputs": [
        {
          "output_type": "stream",
          "name": "stdout",
          "text": [
            "Drive already mounted at /content/drive; to attempt to forcibly remount, call drive.mount(\"/content/drive\", force_remount=True).\n"
          ]
        }
      ]
    },
    {
      "cell_type": "markdown",
      "source": [
        "Directories"
      ],
      "metadata": {
        "id": "95sGy2TD0cOP"
      }
    },
    {
      "cell_type": "code",
      "source": [
        "from openai import OpenAI\n",
        "client = OpenAI(api_key=\"INPUT_KEY\")\n",
        "model = \"gpt-4o\""
      ],
      "metadata": {
        "id": "rEfjmhMqQoqb"
      },
      "execution_count": null,
      "outputs": []
    },
    {
      "cell_type": "code",
      "source": [
        "input_jsonl = \"/content/drive/MyDrive/asymptote_model/data/asymptote_dataset_phase3.jsonl\"\n",
        "output_jsonl = \"/content/drive/MyDrive/asymptote_model/data/asymptote_dataset_phase3_descriptions.jsonl\"\n",
        "start_index = 0\n",
        "sleep_time = 1.2"
      ],
      "metadata": {
        "id": "HIXCtkxX0gbP"
      },
      "execution_count": null,
      "outputs": []
    },
    {
      "cell_type": "markdown",
      "source": [
        "Prompt Template"
      ],
      "metadata": {
        "id": "xd4klWNt0xVz"
      }
    },
    {
      "cell_type": "code",
      "source": [
        "def build_prompt(asy_code):\n",
        "    return(\n",
        "        \"You are given a piece of Asymptote code used for generating mathematical diagrams.\\n\"\n",
        "        \"Your task is to write a detailed and clear math-style instruction or problem prompt \"\n",
        "        \"that accurately matches what this code would visually render.\\n\"\n",
        "        \"Be specific: mention exact coordinates, object types, angles, or visual styles.\\n\\n\"\n",
        "        f\"Asymptote code:\\n{asy_code}\\n\\nDescription:\"\n",
        "    )"
      ],
      "metadata": {
        "id": "Z6uIvHHy0x5Z"
      },
      "execution_count": null,
      "outputs": []
    },
    {
      "cell_type": "markdown",
      "source": [
        "Generate Description"
      ],
      "metadata": {
        "id": "jcn1kCao5gjM"
      }
    },
    {
      "cell_type": "code",
      "source": [
        "@backoff.on_exception(backoff.expo, openai.RateLimitError, max_tries=5)\n",
        "@backoff.on_exception(backoff.expo, openai.OpenAIError, max_tries=3)\n",
        "\n",
        "def generate_description(asy_code):\n",
        "    prompt = build_prompt(asy_code)\n",
        "\n",
        "    response = client.chat.completions.create(\n",
        "        model=model,\n",
        "        messages=[\n",
        "            {\"role\": \"system\", \"content\": \"You are a helpful assistant that writes detailed math-style descriptions from Asymptote code.\"},\n",
        "            {\"role\": \"user\", \"content\": prompt}\n",
        "        ],\n",
        "        temperature=0.5,\n",
        "        max_tokens=200\n",
        "    )\n",
        "    return response.choices[0].message.content.strip()"
      ],
      "metadata": {
        "id": "O4hE_Yrm9pqs"
      },
      "execution_count": null,
      "outputs": []
    },
    {
      "cell_type": "markdown",
      "source": [
        "Process samples"
      ],
      "metadata": {
        "id": "nkCSlvZC2uuY"
      }
    },
    {
      "cell_type": "code",
      "source": [
        "with open(input_jsonl, \"r\", encoding=\"utf-8\") as f:\n",
        "    samples = [json.loads(line.strip()) for line in f]"
      ],
      "metadata": {
        "id": "AAOxQK7o98uz"
      },
      "execution_count": null,
      "outputs": []
    },
    {
      "cell_type": "code",
      "source": [
        "end_index = min(start_index, len(samples))\n",
        "samples_to_process = samples # Attempting to run all 1727 samples\n",
        "print(f\"Processing samples {start_index} to {end_index - 1}...\")"
      ],
      "metadata": {
        "id": "eL6F4P0qRztR"
      },
      "execution_count": null,
      "outputs": []
    },
    {
      "cell_type": "code",
      "execution_count": null,
      "metadata": {
        "id": "AwOqlQQmzHOP",
        "colab": {
          "base_uri": "https://localhost:8080/"
        },
        "outputId": "f0b18f54-da19-4245-c3ec-fd0e491c4bd7"
      },
      "outputs": [
        {
          "output_type": "stream",
          "name": "stderr",
          "text": [
            "Generating Descriptions: 100%|██████████| 1727/1727 [2:43:32<00:00,  5.68s/it]"
          ]
        },
        {
          "output_type": "stream",
          "name": "stdout",
          "text": [
            "Finished batch: 0–9. Output saved to /content/drive/MyDrive/asymptote_model/data/asymptote_dataset_phase3_descriptions.jsonl\n"
          ]
        },
        {
          "output_type": "stream",
          "name": "stderr",
          "text": [
            "\n"
          ]
        }
      ],
      "source": [
        "output_lines = []\n",
        "for i, sample in enumerate(tqdm(samples_to_process, desc=\"Generating Descriptions\")):\n",
        "    if \"description\" in sample:\n",
        "        output_lines.append(sample)\n",
        "        continue\n",
        "\n",
        "    try:\n",
        "        desc = generate_description(sample[\"asy_code\"])\n",
        "    except Exception as e:\n",
        "        print(f\"Error on ID {sample['id']}: {e}\")\n",
        "        desc = \"DESCRIPTION_GENERATION_FAILED\"\n",
        "\n",
        "    sample[\"description\"] = desc\n",
        "    output_lines.append(sample)\n",
        "    time.sleep(sleep_time)\n",
        "\n",
        "# Append results to output jsonl\n",
        "with open(output_jsonl, \"a\", encoding=\"utf-8\") as f:\n",
        "    for line in output_lines:\n",
        "        json.dump(line, f)\n",
        "        f.write(\"\\n\")\n",
        "\n",
        "print(f\"Finished batch: {start_index}–{end_index - 1}. Output saved to {output_jsonl}\")\n"
      ]
    },
    {
      "cell_type": "markdown",
      "source": [
        "Save Final Dataset\n",
        "\n",
        "\n",
        "*   Parametrized\n",
        "*   Rendered Image Paths\n",
        "*   OpenAI Descriptions\n",
        "\n"
      ],
      "metadata": {
        "id": "HedUkYn_51YO"
      }
    },
    {
      "cell_type": "code",
      "source": [
        "with open(output_jsonl, \"r\", encoding=\"utf-8\") as f:\n",
        "    samples = [json.loads(line.strip()) for line in f]\n",
        "\n",
        "samples = samples[11:]\n",
        "\n",
        "output_jsonl_2 = \"/content/drive/MyDrive/asymptote_model/data/asymptote_dataset_final.jsonl\"\n",
        "\n",
        "with open(output_jsonl_2, \"w\", encoding=\"utf-8\") as f:\n",
        "    for line in samples:\n",
        "        json.dump(line, f)\n",
        "        f.write(\"\\n\")"
      ],
      "metadata": {
        "id": "3yv5nEAvDJlZ"
      },
      "execution_count": null,
      "outputs": []
    }
  ]
}